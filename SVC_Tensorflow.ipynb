{
  "nbformat": 4,
  "nbformat_minor": 0,
  "metadata": {
    "colab": {
      "name": "SVC_Tensorflow.ipynb",
      "provenance": [],
      "include_colab_link": true
    },
    "kernelspec": {
      "name": "python3",
      "display_name": "Python 3"
    },
    "accelerator": "GPU"
  },
  "cells": [
    {
      "cell_type": "markdown",
      "metadata": {
        "id": "view-in-github",
        "colab_type": "text"
      },
      "source": [
        "<a href=\"https://colab.research.google.com/github/azfar154/Standard-Vector-Machine-Tensorflow/blob/master/SVC_Tensorflow.ipynb\" target=\"_parent\"><img src=\"https://colab.research.google.com/assets/colab-badge.svg\" alt=\"Open In Colab\"/></a>"
      ]
    },
    {
      "cell_type": "code",
      "metadata": {
        "id": "k0R8o2sjU0OT",
        "colab_type": "code",
        "colab": {}
      },
      "source": [
        "import tensorflow as tf\n",
        "import numpy as np\n",
        "class SVC():\n",
        "  def __init__(self,C= 5):\n",
        "    self.C =5\n",
        "\n",
        "  def fit(self,X_train,y_train,show_weights = False,show_loss = False,epochs = 300000):    \n",
        "    batch_size = 300\n",
        "    features = X_train.shape[1]\n",
        "    print(\"The amount of features are\",features)\n",
        "    self.features= features\n",
        "    x_data = tf.placeholder(shape=[None, features], dtype=tf.float32)\n",
        "    self.x_data = x_data\n",
        "    y_target = tf.placeholder(shape=[None, 1], dtype=tf.float32)\n",
        "    self.y_target = y_target\n",
        "    W = tf.Variable(tf.random_normal(shape=[features, 1]))\n",
        "    b = tf.Variable(tf.random_normal(shape=[1, 1]))\n",
        "    model_output = tf.subtract(tf.matmul(x_data, W), b)\n",
        "\n",
        "    l2_norm = tf.reduce_sum(tf.square(W))\n",
        "\n",
        "    alpha_param = tf.constant([0.01])\n",
        "    classification_term = tf.reduce_mean(tf.maximum(0., tf.subtract(1., tf.multiply(model_output, y_target))))\n",
        "    loss = tf.add(classification_term,self.C * tf.multiply(alpha_param, l2_norm))\n",
        "\n",
        "    prediction = tf.sign(model_output)\n",
        "    accuracy = tf.reduce_mean(tf.cast(tf.equal(prediction,y_train),tf.float32))\n",
        "    self.accuracy = accuracy\n",
        "    residuals = prediction - y_train\n",
        "    with tf.name_scope(\"Loss\"):\n",
        "      tf.summary.histogram(\"Histogram_Errors\",accuracy)\n",
        "      tf.summary.histogram(\"Histagram_Residuals\",residuals)\n",
        "      loss_summary_op = tf.summary.scalar(\"loss\",loss[0])\n",
        "    summary_op = tf.summary.merge_all()\n",
        "    my_opt = tf.train.GradientDescentOptimizer(0.01)\n",
        "    train_step = my_opt.minimize(loss)\n",
        "    X_train = X_train.to_numpy()\n",
        "    y_train = y_train.to_numpy()\n",
        "    sess = tf.Session()\n",
        "    init = tf.global_variables_initializer()\n",
        "    sess.run(init)\n",
        "    display_step = 500\n",
        "    # Training loop\n",
        "    loss_vec = []\n",
        "    train_accuracy = []\n",
        "    test_accuracy = []\n",
        "    epochs= epochs\n",
        "    for i in range(epochs):\n",
        "        rand_index = np.random.choice(len(X_train), size=batch_size)\n",
        "        rand_x = X_train[rand_index]\n",
        "        rand_y = np.transpose([y_train[rand_index]])\n",
        "        sess.run(train_step, feed_dict={x_data: rand_x, y_target: rand_y})\n",
        "        if i % display_step == 0:\n",
        "          weights = sess.run(W)\n",
        "          if show_weights == True:\n",
        "            for i in range(len(weights)):\n",
        "              for x in weights[i]:\n",
        "                print(\"Weight \",i,x)\n",
        "          #test_loss, test_residuals = sess.run([loss,residuals],feed_dict={x_data:x_test,y_target:y_test})\n",
        "          if show_loss == True:\n",
        "            print( \"B:\",sess.run(b)[0][0])\n",
        "            loss_percentage = sess.run(loss,feed_dict={x_data:rand_x,y_target:rand_y})\n",
        "            print(\"Loss :\",loss_percentage[0])\n",
        "    self.sess = sess\n",
        "    self.weights = sess.run(W)\n",
        "    self.bias = sess.run(b)\n",
        "    self.loss = sess.run(loss,feed_dict={x_data:X_train,y_target:np.transpose([y_train])})\n",
        "    print(\"Training Accuracy =\",self.loss[0])\n",
        "  def show_stats_train(self):\n",
        "    return self.sess,self.weights,self.bias,self.loss\n",
        "  def score(self,x_test,y_test):\n",
        "    x_test = x_test.to_numpy()\n",
        "    y_test = y_test.to_numpy()\n",
        "    test_acc = self.sess.run(self.accuracy,feed_dict={self.x_data:x_test,self.y_target:np.transpose([y_test])})\n",
        "    return test_acc\n"
      ],
      "execution_count": 0,
      "outputs": []
    },
    {
      "cell_type": "code",
      "metadata": {
        "id": "B0SStzwSVGbb",
        "colab_type": "code",
        "colab": {}
      },
      "source": [
        "import pandas as pd"
      ],
      "execution_count": 0,
      "outputs": []
    },
    {
      "cell_type": "code",
      "metadata": {
        "id": "C1Uf_aiRVP0T",
        "colab_type": "code",
        "colab": {}
      },
      "source": [
        "data = pd.read_csv('heart.csv')"
      ],
      "execution_count": 0,
      "outputs": []
    },
    {
      "cell_type": "code",
      "metadata": {
        "id": "x8_8TF9bVSwl",
        "colab_type": "code",
        "colab": {
          "base_uri": "https://localhost:8080/",
          "height": 204
        },
        "outputId": "cc99b394-5eb0-42c3-c540-0310f95d38bf"
      },
      "source": [
        "data.head()"
      ],
      "execution_count": 4,
      "outputs": [
        {
          "output_type": "execute_result",
          "data": {
            "text/html": [
              "<div>\n",
              "<style scoped>\n",
              "    .dataframe tbody tr th:only-of-type {\n",
              "        vertical-align: middle;\n",
              "    }\n",
              "\n",
              "    .dataframe tbody tr th {\n",
              "        vertical-align: top;\n",
              "    }\n",
              "\n",
              "    .dataframe thead th {\n",
              "        text-align: right;\n",
              "    }\n",
              "</style>\n",
              "<table border=\"1\" class=\"dataframe\">\n",
              "  <thead>\n",
              "    <tr style=\"text-align: right;\">\n",
              "      <th></th>\n",
              "      <th>age</th>\n",
              "      <th>sex</th>\n",
              "      <th>cp</th>\n",
              "      <th>trestbps</th>\n",
              "      <th>chol</th>\n",
              "      <th>fbs</th>\n",
              "      <th>restecg</th>\n",
              "      <th>thalach</th>\n",
              "      <th>exang</th>\n",
              "      <th>oldpeak</th>\n",
              "      <th>slope</th>\n",
              "      <th>ca</th>\n",
              "      <th>thal</th>\n",
              "      <th>target</th>\n",
              "    </tr>\n",
              "  </thead>\n",
              "  <tbody>\n",
              "    <tr>\n",
              "      <th>0</th>\n",
              "      <td>63</td>\n",
              "      <td>1</td>\n",
              "      <td>3</td>\n",
              "      <td>145</td>\n",
              "      <td>233</td>\n",
              "      <td>1</td>\n",
              "      <td>0</td>\n",
              "      <td>150</td>\n",
              "      <td>0</td>\n",
              "      <td>2.3</td>\n",
              "      <td>0</td>\n",
              "      <td>0</td>\n",
              "      <td>1</td>\n",
              "      <td>1</td>\n",
              "    </tr>\n",
              "    <tr>\n",
              "      <th>1</th>\n",
              "      <td>37</td>\n",
              "      <td>1</td>\n",
              "      <td>2</td>\n",
              "      <td>130</td>\n",
              "      <td>250</td>\n",
              "      <td>0</td>\n",
              "      <td>1</td>\n",
              "      <td>187</td>\n",
              "      <td>0</td>\n",
              "      <td>3.5</td>\n",
              "      <td>0</td>\n",
              "      <td>0</td>\n",
              "      <td>2</td>\n",
              "      <td>1</td>\n",
              "    </tr>\n",
              "    <tr>\n",
              "      <th>2</th>\n",
              "      <td>41</td>\n",
              "      <td>0</td>\n",
              "      <td>1</td>\n",
              "      <td>130</td>\n",
              "      <td>204</td>\n",
              "      <td>0</td>\n",
              "      <td>0</td>\n",
              "      <td>172</td>\n",
              "      <td>0</td>\n",
              "      <td>1.4</td>\n",
              "      <td>2</td>\n",
              "      <td>0</td>\n",
              "      <td>2</td>\n",
              "      <td>1</td>\n",
              "    </tr>\n",
              "    <tr>\n",
              "      <th>3</th>\n",
              "      <td>56</td>\n",
              "      <td>1</td>\n",
              "      <td>1</td>\n",
              "      <td>120</td>\n",
              "      <td>236</td>\n",
              "      <td>0</td>\n",
              "      <td>1</td>\n",
              "      <td>178</td>\n",
              "      <td>0</td>\n",
              "      <td>0.8</td>\n",
              "      <td>2</td>\n",
              "      <td>0</td>\n",
              "      <td>2</td>\n",
              "      <td>1</td>\n",
              "    </tr>\n",
              "    <tr>\n",
              "      <th>4</th>\n",
              "      <td>57</td>\n",
              "      <td>0</td>\n",
              "      <td>0</td>\n",
              "      <td>120</td>\n",
              "      <td>354</td>\n",
              "      <td>0</td>\n",
              "      <td>1</td>\n",
              "      <td>163</td>\n",
              "      <td>1</td>\n",
              "      <td>0.6</td>\n",
              "      <td>2</td>\n",
              "      <td>0</td>\n",
              "      <td>2</td>\n",
              "      <td>1</td>\n",
              "    </tr>\n",
              "  </tbody>\n",
              "</table>\n",
              "</div>"
            ],
            "text/plain": [
              "   age  sex  cp  trestbps  chol  fbs  ...  exang  oldpeak  slope  ca  thal  target\n",
              "0   63    1   3       145   233    1  ...      0      2.3      0   0     1       1\n",
              "1   37    1   2       130   250    0  ...      0      3.5      0   0     2       1\n",
              "2   41    0   1       130   204    0  ...      0      1.4      2   0     2       1\n",
              "3   56    1   1       120   236    0  ...      0      0.8      2   0     2       1\n",
              "4   57    0   0       120   354    0  ...      1      0.6      2   0     2       1\n",
              "\n",
              "[5 rows x 14 columns]"
            ]
          },
          "metadata": {
            "tags": []
          },
          "execution_count": 4
        }
      ]
    },
    {
      "cell_type": "code",
      "metadata": {
        "id": "OYXpbiTBVU-S",
        "colab_type": "code",
        "colab": {}
      },
      "source": [
        "target = data['target']"
      ],
      "execution_count": 0,
      "outputs": []
    },
    {
      "cell_type": "code",
      "metadata": {
        "id": "h7NXm5wLVYVP",
        "colab_type": "code",
        "colab": {
          "base_uri": "https://localhost:8080/",
          "height": 119
        },
        "outputId": "e8ce60b6-a2aa-49eb-d3e3-416586ae9555"
      },
      "source": [
        "target.head()"
      ],
      "execution_count": 6,
      "outputs": [
        {
          "output_type": "execute_result",
          "data": {
            "text/plain": [
              "0    1\n",
              "1    1\n",
              "2    1\n",
              "3    1\n",
              "4    1\n",
              "Name: target, dtype: int64"
            ]
          },
          "metadata": {
            "tags": []
          },
          "execution_count": 6
        }
      ]
    },
    {
      "cell_type": "code",
      "metadata": {
        "id": "LDBfs18NZym_",
        "colab_type": "code",
        "colab": {
          "base_uri": "https://localhost:8080/",
          "height": 238
        },
        "outputId": "73a94ed2-fa45-47b7-c7bc-d005d94a30de"
      },
      "source": [
        "X_train"
      ],
      "execution_count": 75,
      "outputs": [
        {
          "output_type": "execute_result",
          "data": {
            "text/plain": [
              "array([[-0.30209462,  2.01531366, -1.58427484, ...,  0.29079054,\n",
              "        -1.19856641, -0.39366662],\n",
              "       [-2.1282656 ,  0.09506976, -0.5984443 , ...,  0.22980857,\n",
              "         0.25025563,  0.52288809],\n",
              "       [ 0.07934376, -0.4594317 ,  0.04933809, ..., -0.82251854,\n",
              "        -0.88919194,  0.23465154],\n",
              "       ...,\n",
              "       [ 1.05082659,  0.13350826, -1.63727427, ...,  0.57847759,\n",
              "        -0.68486815,  0.30741838],\n",
              "       [ 1.24798795, -2.26983814,  1.0076397 , ...,  0.69855388,\n",
              "         1.28543998,  1.25827079],\n",
              "       [-0.206818  , -1.63102082, -0.09973378, ..., -0.48744382,\n",
              "        -1.56557381, -0.09752086]])"
            ]
          },
          "metadata": {
            "tags": []
          },
          "execution_count": 75
        }
      ]
    },
    {
      "cell_type": "code",
      "metadata": {
        "id": "ZfXvEDFYVjlK",
        "colab_type": "code",
        "colab": {}
      },
      "source": [
        "features = data.drop(columns=['target'])"
      ],
      "execution_count": 0,
      "outputs": []
    },
    {
      "cell_type": "code",
      "metadata": {
        "id": "RFcx9Y0PVmU5",
        "colab_type": "code",
        "colab": {}
      },
      "source": [
        "from sklearn.model_selection import train_test_split\n",
        "X_train,x_test,y_train,y_test = train_test_split(features,target,random_state = 0 )"
      ],
      "execution_count": 0,
      "outputs": []
    },
    {
      "cell_type": "code",
      "metadata": {
        "id": "W_ZE-7F5VujX",
        "colab_type": "code",
        "colab": {}
      },
      "source": [
        "model = SVC()"
      ],
      "execution_count": 0,
      "outputs": []
    },
    {
      "cell_type": "code",
      "metadata": {
        "id": "nJYSuqm1V7Wk",
        "colab_type": "code",
        "colab": {
          "base_uri": "https://localhost:8080/",
          "height": 51
        },
        "outputId": "eee97538-367b-4b03-9dc7-277f329dc103"
      },
      "source": [
        "model.fit(X_train,y_train)"
      ],
      "execution_count": 72,
      "outputs": [
        {
          "output_type": "stream",
          "text": [
            "The amount of features are 13\n",
            "Training Accuracy = 0.46255696\n"
          ],
          "name": "stdout"
        }
      ]
    },
    {
      "cell_type": "code",
      "metadata": {
        "id": "DeEhhNyyWIEE",
        "colab_type": "code",
        "colab": {
          "base_uri": "https://localhost:8080/",
          "height": 34
        },
        "outputId": "004be007-2c0e-4a76-a227-b12fd0e5a182"
      },
      "source": [
        "model.score(x_test,y_test)"
      ],
      "execution_count": 61,
      "outputs": [
        {
          "output_type": "execute_result",
          "data": {
            "text/plain": [
              "0.53744495"
            ]
          },
          "metadata": {
            "tags": []
          },
          "execution_count": 61
        }
      ]
    },
    {
      "cell_type": "code",
      "metadata": {
        "id": "yj_bmRTYXhMa",
        "colab_type": "code",
        "colab": {}
      },
      "source": [
        "from sklearn.svm import SVC"
      ],
      "execution_count": 0,
      "outputs": []
    },
    {
      "cell_type": "code",
      "metadata": {
        "id": "n7OVuYhUXjQw",
        "colab_type": "code",
        "colab": {
          "base_uri": "https://localhost:8080/",
          "height": 71
        },
        "outputId": "a17e2d01-0389-4605-fcc2-1de129da483c"
      },
      "source": [
        "model = SVC().fit(X_train,y_train)"
      ],
      "execution_count": 63,
      "outputs": [
        {
          "output_type": "stream",
          "text": [
            "/usr/local/lib/python3.6/dist-packages/sklearn/svm/base.py:193: FutureWarning: The default value of gamma will change from 'auto' to 'scale' in version 0.22 to account better for unscaled features. Set gamma explicitly to 'auto' or 'scale' to avoid this warning.\n",
            "  \"avoid this warning.\", FutureWarning)\n"
          ],
          "name": "stderr"
        }
      ]
    },
    {
      "cell_type": "code",
      "metadata": {
        "id": "Zq1rUk8hXlJG",
        "colab_type": "code",
        "colab": {
          "base_uri": "https://localhost:8080/",
          "height": 34
        },
        "outputId": "c76437fe-278c-4e80-ad30-c2371cdbf9b9"
      },
      "source": [
        "model.score(x_test,y_test)"
      ],
      "execution_count": 64,
      "outputs": [
        {
          "output_type": "execute_result",
          "data": {
            "text/plain": [
              "0.5921052631578947"
            ]
          },
          "metadata": {
            "tags": []
          },
          "execution_count": 64
        }
      ]
    },
    {
      "cell_type": "code",
      "metadata": {
        "id": "z9Wk5q-QWNbk",
        "colab_type": "code",
        "colab": {}
      },
      "source": [
        "from sklearn.dummy import DummyClassifier"
      ],
      "execution_count": 0,
      "outputs": []
    },
    {
      "cell_type": "code",
      "metadata": {
        "id": "C3OOKMI4XIx1",
        "colab_type": "code",
        "colab": {}
      },
      "source": [
        "dummy_clf = DummyClassifier(strategy=\"most_frequent\").fit(X_train,y_train)"
      ],
      "execution_count": 0,
      "outputs": []
    },
    {
      "cell_type": "code",
      "metadata": {
        "id": "NVqc_QKGXOlF",
        "colab_type": "code",
        "colab": {
          "base_uri": "https://localhost:8080/",
          "height": 34
        },
        "outputId": "f11aab5c-70f8-4617-9abf-dee16d06048b"
      },
      "source": [
        "dummy_clf.score(x_test,y_test)"
      ],
      "execution_count": 57,
      "outputs": [
        {
          "output_type": "execute_result",
          "data": {
            "text/plain": [
              "0.5657894736842105"
            ]
          },
          "metadata": {
            "tags": []
          },
          "execution_count": 57
        }
      ]
    },
    {
      "cell_type": "code",
      "metadata": {
        "id": "jh1A-HJYXVYE",
        "colab_type": "code",
        "colab": {}
      },
      "source": [
        ""
      ],
      "execution_count": 0,
      "outputs": []
    }
  ]
}